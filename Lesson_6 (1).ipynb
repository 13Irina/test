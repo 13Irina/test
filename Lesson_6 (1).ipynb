{
  "nbformat": 4,
  "nbformat_minor": 0,
  "metadata": {
    "colab": {
      "provenance": [],
      "collapsed_sections": []
    },
    "kernelspec": {
      "name": "python3",
      "display_name": "Python 3"
    },
    "language_info": {
      "name": "python"
    }
  },
  "cells": [
    {
      "cell_type": "markdown",
      "source": [
        "\n",
        "## Словари"
      ],
      "metadata": {
        "id": "A37oTZYV8A5U"
      }
    },
    {
      "cell_type": "markdown",
      "source": [
        "1. В настольной игре Скрабл (Scrabble) каждая буква имеет определенную ценность. \n",
        "\n",
        "Русские буквы оцениваются так:\n",
        "\n",
        "А, В, Е, И, Н, О, Р, С, Т – 1 очко;\n",
        "Д, К, Л, М, П, У – 2 очка;\n",
        "Б, Г, Ё, Ь, Я – 3 очка;\n",
        "Й, Ы – 4 очка;\n",
        "Ж, З, Х, Ц, Ч – 5 очков;\n",
        "Ш, Э, Ю – 8 очков;\n",
        "Ф, Щ, Ъ – 10 очков.\n",
        "\n",
        "Напишите программу, которая вычисляет стоимость введенного пользователем слова. Будем считать, что на вход подается только одно слово, которое содержит либо только английские, либо только русские буквы.\n",
        "\n",
        "Пример ввода:\n",
        "ноутбук\n",
        "\n",
        "Пример вывода:\n",
        "12"
      ],
      "metadata": {
        "id": "pnx8B-xin1or"
      }
    },
    {
      "cell_type": "code",
      "source": [
        "points_ru = {1:'АВЕИНОРСТ',\n",
        "      \t2:'ДКЛМПУ',\n",
        "      \t3:'БГЁЬЯ',\n",
        "      \t4:'ЙЫ',\n",
        "      \t5:'ЖЗХЦЧ',\n",
        "      \t8:'ШЭЮ',\n",
        "      \t10:'ФЩЪ'}\n",
        "text = input().upper()\n",
        "\n",
        "res = []\n",
        "for i in text:\n",
        "    for k, v in points_ru.items():\n",
        "        if i in v:\n",
        "            res.append(k)\n",
        "print(sum(res))\n",
        "\n",
        "# print(sum([k for i in text for k, v in points_ru.items() if i in v]))"
      ],
      "metadata": {
        "colab": {
          "base_uri": "https://localhost:8080/"
        },
        "id": "W9F1R4Pgkdh0",
        "outputId": "6b55cde4-b9d0-44bc-831a-0f670ee9fea7"
      },
      "execution_count": 65,
      "outputs": [
        {
          "output_type": "stream",
          "name": "stdout",
          "text": [
            "кауст\n",
            "7\n"
          ]
        }
      ]
    },
    {
      "cell_type": "markdown",
      "source": [
        "Базовые задачи"
      ],
      "metadata": {
        "id": "Q_MbseXhxRXE"
      }
    },
    {
      "cell_type": "markdown",
      "source": [
        "6. Создайте словарь из строки 'pythonist' следующим образом: в качестве ключей возьмите буквы строки, а значениями пусть будут числа, соответствующие количеству вхождений данной буквы в строку."
      ],
      "metadata": {
        "id": "o0gcJjGhEIuY"
      }
    },
    {
      "cell_type": "code",
      "source": [
        "string = 'pythonist'\n",
        "first_dict = {}\n",
        "for i in string:\n",
        "    first_dict[i] = string.count(i)\n",
        "\n",
        "print(first_dict)\n",
        "\n",
        "second_dict = {i:string.count(i) for i in string}\n",
        "\n",
        "print(second_dict)"
      ],
      "metadata": {
        "colab": {
          "base_uri": "https://localhost:8080/"
        },
        "id": "zBsS0IQq6H_M",
        "outputId": "0aa8373e-b2f3-4ff4-d4ad-b6bd663ae6e6"
      },
      "execution_count": 3,
      "outputs": [
        {
          "output_type": "stream",
          "name": "stdout",
          "text": [
            "{'p': 1, 'y': 1, 't': 2, 'h': 1, 'o': 1, 'n': 1, 'i': 1, 's': 1}\n",
            "{'p': 1, 'y': 1, 't': 2, 'h': 1, 'o': 1, 'n': 1, 'i': 1, 's': 1}\n"
          ]
        }
      ]
    },
    {
      "cell_type": "markdown",
      "source": [
        "7. Напишите программу на Python для добавления ключа в словарь."
      ],
      "metadata": {
        "id": "YDpqDOrNGnK8"
      }
    },
    {
      "cell_type": "code",
      "source": [
        "d = {1: 10, 2: 20}\n",
        "print(d)\n",
        "\n",
        "d.update({3:30})\n",
        "\n",
        "print(d)"
      ],
      "metadata": {
        "colab": {
          "base_uri": "https://localhost:8080/"
        },
        "id": "WAZqlf8u9NPS",
        "outputId": "f0951a23-8cf6-4915-fee4-297c41dc4c00"
      },
      "execution_count": 5,
      "outputs": [
        {
          "output_type": "stream",
          "name": "stdout",
          "text": [
            "{1: 10, 2: 20}\n",
            "{1: 10, 2: 20, 3: 30}\n"
          ]
        }
      ]
    },
    {
      "cell_type": "markdown",
      "source": [
        "8. Напишите программу Python для объединения следующих словарей для создания нового."
      ],
      "metadata": {
        "id": "XpTioU0YGoNB"
      }
    },
    {
      "cell_type": "code",
      "source": [
        "d_1 = {1: 10, 2: 20}\n",
        "d_2 = {3: 30, 4: 40}\n",
        "\n",
        "d_3 = {}\n",
        "for i, k in d_1.items():\n",
        "    # print(i,k)\n",
        "    d_3[i] = k\n",
        "\n",
        "for i, k in d_2.items():\n",
        "    # print(i, k)\n",
        "    d_3[i] = k\n",
        "\n",
        "print(d_3)"
      ],
      "metadata": {
        "colab": {
          "base_uri": "https://localhost:8080/"
        },
        "id": "7Gm1U31f90Gy",
        "outputId": "7fbf4221-2679-448b-e24d-9c87138a05f1"
      },
      "execution_count": 17,
      "outputs": [
        {
          "output_type": "stream",
          "name": "stdout",
          "text": [
            "{1: 10, 2: 20, 3: 30, 4: 40}\n"
          ]
        }
      ]
    },
    {
      "cell_type": "markdown",
      "source": [
        "9. Напишите программу на Python, чтобы проверить, существует ли данный ключ в словаре."
      ],
      "metadata": {
        "id": "Xd-1DKKcGqZK"
      }
    },
    {
      "cell_type": "code",
      "source": [
        "d = {1: 10, 2: 20, 3: 30, 4: 40}\n",
        "\n",
        "x = int(input())\n",
        "\n",
        "if x in d:\n",
        "    print('существует')\n",
        "else:\n",
        "    print('нет')"
      ],
      "metadata": {
        "colab": {
          "base_uri": "https://localhost:8080/"
        },
        "id": "zK5j3suy_KUP",
        "outputId": "3ba7fab6-c88d-40a3-968b-aa4f1ffce4f1"
      },
      "execution_count": 15,
      "outputs": [
        {
          "output_type": "stream",
          "name": "stdout",
          "text": [
            "20\n",
            "существует\n"
          ]
        }
      ]
    },
    {
      "cell_type": "markdown",
      "source": [
        "11. Напишите скрипт Python для создания и печати словаря, содержащего число (от 1 до n) в форме (x, x*x)."
      ],
      "metadata": {
        "id": "ylp8bN-PGsID"
      }
    },
    {
      "cell_type": "code",
      "source": [
        "n = int(input())\n",
        "d = {}\n",
        "\n",
        "for x in range(1, n+1):\n",
        "    d[x] = x**2\n",
        "\n",
        "print(d)"
      ],
      "metadata": {
        "colab": {
          "base_uri": "https://localhost:8080/"
        },
        "id": "LPRwL6HZEYjN",
        "outputId": "1f3b10a3-5836-4902-fc24-b2d60fd5894c"
      },
      "execution_count": 24,
      "outputs": [
        {
          "output_type": "stream",
          "name": "stdout",
          "text": [
            "3\n",
            "{1: 1, 2: 4, 3: 9}\n"
          ]
        }
      ]
    },
    {
      "cell_type": "markdown",
      "source": [
        "12. Напишите программу на Python для суммирования всех элементов словаря."
      ],
      "metadata": {
        "id": "pP-jtJh4yxWu"
      }
    },
    {
      "cell_type": "code",
      "source": [
        "d = {1:100, 2:210, 3:456}\n",
        "print(sum(d.values()))"
      ],
      "metadata": {
        "colab": {
          "base_uri": "https://localhost:8080/"
        },
        "id": "AidPqDZKE2S2",
        "outputId": "a35b6039-df87-4db1-ae07-851968c4204e"
      },
      "execution_count": 23,
      "outputs": [
        {
          "output_type": "stream",
          "name": "stdout",
          "text": [
            "766\n"
          ]
        }
      ]
    },
    {
      "cell_type": "markdown",
      "source": [
        "13. Напишите программу на Python для умножения всех элементов словаря."
      ],
      "metadata": {
        "id": "9Ttpk9E3zIDj"
      }
    },
    {
      "cell_type": "code",
      "source": [
        "d = {1:100, 2:210, 3:456}\n",
        "res = 1\n",
        "\n",
        "for i in d.values():\n",
        "    res *= i\n",
        "print(res)"
      ],
      "metadata": {
        "colab": {
          "base_uri": "https://localhost:8080/"
        },
        "id": "Mj3IamYlFjYO",
        "outputId": "ba968712-fd2d-4753-813d-81633c82e5b6"
      },
      "execution_count": 26,
      "outputs": [
        {
          "output_type": "stream",
          "name": "stdout",
          "text": [
            "9576000\n"
          ]
        }
      ]
    },
    {
      "cell_type": "markdown",
      "source": [
        "14. Напишите программу на Python для удаления ключа из словаря."
      ],
      "metadata": {
        "id": "ZQLB8LI6zNBQ"
      }
    },
    {
      "cell_type": "code",
      "source": [
        "d = {1:100, 2:210, 3:456}\n",
        "\n",
        "del_key = int(input())\n",
        "\n",
        "if del_key in d.keys():\n",
        "    del d[del_key]\n",
        "\n",
        "print(d)"
      ],
      "metadata": {
        "colab": {
          "base_uri": "https://localhost:8080/"
        },
        "id": "DgmZ3FyHF6Aa",
        "outputId": "498e4294-c22c-4df7-a2f3-e282606590fc"
      },
      "execution_count": 27,
      "outputs": [
        {
          "output_type": "stream",
          "name": "stdout",
          "text": [
            "2\n",
            "{1: 100, 3: 456}\n"
          ]
        }
      ]
    },
    {
      "cell_type": "code",
      "source": [
        "d = {1:100, 2:210, 3:456}\n",
        "\n",
        "d.pop(1)\n",
        "\n",
        "print(d)"
      ],
      "metadata": {
        "colab": {
          "base_uri": "https://localhost:8080/"
        },
        "id": "crh-T7bzGquG",
        "outputId": "5bf1dcc9-089e-4684-8a66-1a3100fd20ac"
      },
      "execution_count": 28,
      "outputs": [
        {
          "output_type": "execute_result",
          "data": {
            "text/plain": [
              "100"
            ]
          },
          "metadata": {},
          "execution_count": 28
        }
      ]
    },
    {
      "cell_type": "markdown",
      "source": [
        "15. Напишите программу на Python для отображения двух списков в словарь."
      ],
      "metadata": {
        "id": "lDVmIuWrzuyd"
      }
    },
    {
      "cell_type": "code",
      "source": [
        "keys = [1, 2, 3]\n",
        "values = [100, 200, 300]\n",
        "\n",
        "# d = [[key, value],[key, value]]\n",
        "\n",
        "new_dict = dict(zip(keys, values))\n",
        "\n",
        "print(new_dict)"
      ],
      "metadata": {
        "colab": {
          "base_uri": "https://localhost:8080/"
        },
        "id": "3rjMsqq4G8Vb",
        "outputId": "829c92f5-f1d6-4378-cec4-202020d36f0a"
      },
      "execution_count": 30,
      "outputs": [
        {
          "output_type": "stream",
          "name": "stdout",
          "text": [
            "{1: 100, 2: 200, 3: 300}\n"
          ]
        }
      ]
    },
    {
      "cell_type": "markdown",
      "source": [
        "16. Напишите программу на Python для удаления дубликатов из словаря."
      ],
      "metadata": {
        "id": "ZWoNT-n409-K"
      }
    },
    {
      "cell_type": "code",
      "source": [
        "student_data = {'id1': \n",
        "   {'name': ['Sara'], \n",
        "    'class': ['V'], \n",
        "    'subject_integration': ['english, math, science']\n",
        "   },\n",
        " 'id2': \n",
        "  {'name': ['David'], \n",
        "    'class': ['V'], \n",
        "    'subject_integration': ['english, math, science']\n",
        "   },\n",
        " 'id3': \n",
        "    {'name': ['Sara'], \n",
        "    'class': ['V'], \n",
        "    'subject_integration': ['english, math, science']\n",
        "   },\n",
        " 'id4': \n",
        "   {'name': ['Surya'], \n",
        "    'class': ['V'], \n",
        "    'subject_integration': ['english, math, science']\n",
        "   }}\n",
        "\n",
        "res = {}\n",
        "\n",
        "for k, v in student_data.items():\n",
        "    if v not in res.values():\n",
        "        res[k] = v\n",
        "\n",
        "print(res)\n",
        "\n",
        "\n",
        "\n"
      ],
      "metadata": {
        "colab": {
          "base_uri": "https://localhost:8080/"
        },
        "id": "YRQMugac1XYw",
        "outputId": "1f749535-85f6-4dc9-f061-d39e306ce295"
      },
      "execution_count": 31,
      "outputs": [
        {
          "output_type": "stream",
          "name": "stdout",
          "text": [
            "{'id1': {'name': ['Sara'], 'class': ['V'], 'subject_integration': ['english, math, science']}, 'id2': {'name': ['David'], 'class': ['V'], 'subject_integration': ['english, math, science']}, 'id4': {'name': ['Surya'], 'class': ['V'], 'subject_integration': ['english, math, science']}}\n"
          ]
        }
      ]
    },
    {
      "cell_type": "markdown",
      "source": [
        "17. Объедините 2 словаря, используя специальный оператор **"
      ],
      "metadata": {
        "id": "qtlwjeJSCkkU"
      }
    },
    {
      "cell_type": "code",
      "source": [
        "d_1 = {1: 10, 2: 20}\n",
        "d_2 = {3: 30, 4: 40}\n",
        "\n",
        "res_d = {**d_1, **d_2}\n",
        "print(res_d)"
      ],
      "metadata": {
        "colab": {
          "base_uri": "https://localhost:8080/"
        },
        "id": "9GMCKocXJEAe",
        "outputId": "145d5f14-84cf-41c1-c1cc-7c1f42eb88c0"
      },
      "execution_count": 32,
      "outputs": [
        {
          "output_type": "stream",
          "name": "stdout",
          "text": [
            "{1: 10, 2: 20, 3: 30, 4: 40}\n"
          ]
        }
      ]
    },
    {
      "cell_type": "markdown",
      "source": [
        "## Вложенные списки"
      ],
      "metadata": {
        "id": "Xk7L4MSL1wdr"
      }
    },
    {
      "cell_type": "markdown",
      "source": [
        "В реальном мире часто задачам приходится хранить прямоугольную таблицу данных. Такие таблицы называются матрицами или двумерными массивами. В Python любая таблица может быть представлена ​​как список списков (список, где каждый элемент, в свою очередь, является списком). "
      ],
      "metadata": {
        "id": "jBYHkedT360s"
      }
    },
    {
      "cell_type": "markdown",
      "source": [
        "1. Напишите программу на Python, которая принимает две цифры m (строка) и n (столбец) в качестве входных данных и генерирует двумерный массив. Значение элемента в i-й строке и j-м столбце массива должно быть i*j.\n",
        "\n",
        "Примечание :\n",
        "\n",
        "i = 0,1,.. m-1\n",
        "\n",
        "j = 0,1,... n-1.\n",
        "\n",
        "\n",
        "![image.png](data:image/png;base64,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)"
      ],
      "metadata": {
        "id": "B9WdjklE1wr8"
      }
    },
    {
      "cell_type": "code",
      "source": [
        "row_num = int(input())\n",
        "col_num = int(input())\n",
        "\n",
        "first_temp = [[0 for col in range(col_num)] for row  in range(row_num)]\n",
        "\n",
        "# print(first_temp)\n",
        "\n",
        "for i in range(row_num):\n",
        "    for j in range(col_num):\n",
        "        first_temp[i][j] = i * j\n",
        "\n",
        "for i in first_temp:\n",
        "    print(i)  "
      ],
      "metadata": {
        "colab": {
          "base_uri": "https://localhost:8080/"
        },
        "id": "mjPbc-dp3DM3",
        "outputId": "847e4066-5282-4554-9b7b-1f03e339e247"
      },
      "execution_count": 59,
      "outputs": [
        {
          "output_type": "stream",
          "name": "stdout",
          "text": [
            "3\n",
            "4\n",
            "[0, 0, 0, 0]\n",
            "[0, 1, 2, 3]\n",
            "[0, 2, 4, 6]\n"
          ]
        }
      ]
    },
    {
      "cell_type": "markdown",
      "source": [
        "Для обработки двумерного массива обычно используются вложенные циклы. Первый цикл повторяется через номер строки, второй цикл проходит через элементы внутри строки. Например, так вы показываете двумерный численный список на экране по строкам, разделяя числа пробелами:"
      ],
      "metadata": {
        "id": "CjiVeI6n4Bn1"
      }
    },
    {
      "cell_type": "code",
      "source": [
        "a = [[1, 2, 3, 4], [5, 6], [7, 8, 9]]\n",
        "for i in range(len(a)):\n",
        "    for j in range(len(a[i])):\n",
        "        print(a[i][j], end=' ')\n",
        "    print()\n",
        "\n"
      ],
      "metadata": {
        "colab": {
          "base_uri": "https://localhost:8080/"
        },
        "id": "XjgF0oK94Gh5",
        "outputId": "610398c6-4140-4d08-d8ec-752692dc22dd"
      },
      "execution_count": 54,
      "outputs": [
        {
          "output_type": "stream",
          "name": "stdout",
          "text": [
            "1 2 3 4 \n",
            "5 6 \n",
            "7 8 9 \n"
          ]
        }
      ]
    },
    {
      "cell_type": "code",
      "source": [
        "a = [[1, 2, 3, 4], [5, 6], [7, 8, 9]]\n",
        "for i in a:\n",
        "    for j in i:\n",
        "        print(j, end=' ')\n",
        "    print()"
      ],
      "metadata": {
        "colab": {
          "base_uri": "https://localhost:8080/"
        },
        "id": "5uLyf1p54Qcx",
        "outputId": "469adca6-04bd-44f0-9aef-f3f220d34005"
      },
      "execution_count": 60,
      "outputs": [
        {
          "output_type": "stream",
          "name": "stdout",
          "text": [
            "1 2 3 4 \n",
            "5 6 \n",
            "7 8 9 \n"
          ]
        }
      ]
    },
    {
      "cell_type": "markdown",
      "source": [
        "2. Вычислите сумму всех чисел в двумерном списке"
      ],
      "metadata": {
        "id": "Nx7_TzPg3lAo"
      }
    },
    {
      "cell_type": "code",
      "source": [
        "a = [[1, 1, 3, 4], [5, 6], [7, 8, 9]]\n",
        "\n",
        "s = 0\n",
        "\n",
        "for i in range(len(a)):\n",
        "    for j in range(len(a[i])):\n",
        "        s += a[i][j]\n",
        "\n",
        "print(s)\n"
      ],
      "metadata": {
        "colab": {
          "base_uri": "https://localhost:8080/"
        },
        "id": "sUZMpDyV3lKf",
        "outputId": "f2f01290-51ae-4b70-fdc1-cdfc1da44ef7"
      },
      "execution_count": 61,
      "outputs": [
        {
          "output_type": "stream",
          "name": "stdout",
          "text": [
            "45\n"
          ]
        }
      ]
    },
    {
      "cell_type": "markdown",
      "source": [
        "3. Предположим, вам задан квадратный массив (массив из n строк и n столбцов). Вы должны установить элементы главной диагонали, равные 1 (т. Е. Те элементы a[i][j] для которых i==j ), чтобы установить элементы выше, чем диагональ, которые равны 0, и установить элементы ниже этой диагонали, равной 2. "
      ],
      "metadata": {
        "id": "-kgUMbnP5UU8"
      }
    },
    {
      "cell_type": "markdown",
      "source": [
        "Вы можете сделать это вручную, установив a[0][0] = 1 , a[0][1] = 0 и т. Д., Но вы не будете делать это вручную для массивов из 100 строк и 100 столбцов , что часто бывает.)\n",
        "\n",
        "Что можно сделать? \n",
        "\n",
        "Во-первых, обратите внимание, что элементы, лежащие над главной диагональю, - это элементы a[i][j] для которых i<j , а для элементов ниже главной диагонали i>j . Таким образом, мы можем сравнить значения i и j , определяющие значение a[i][j] . Мы получаем следующий алгоритм:"
      ],
      "metadata": {
        "id": "WKtnmQEc54ZG"
      }
    },
    {
      "cell_type": "code",
      "source": [
        "n = 4\n",
        "a = [[0] * n for i in range(n)]\n",
        "for i in range(n):\n",
        "    for j in range(n):\n",
        "        if i < j:\n",
        "            a[i][j] = 0\n",
        "        elif i > j:\n",
        "            a[i][j] = 2\n",
        "        else:\n",
        "            a[i][j] = 1\n",
        "for row in a:\n",
        "    print(' '.join([str(elem) for elem in row]))"
      ],
      "metadata": {
        "colab": {
          "base_uri": "https://localhost:8080/"
        },
        "id": "I9QDFC9Z5hCh",
        "outputId": "931f5c57-8dbf-463b-c300-2bead4105626"
      },
      "execution_count": 45,
      "outputs": [
        {
          "output_type": "stream",
          "name": "stdout",
          "text": [
            "1 0 0 0\n",
            "2 1 0 0\n",
            "2 2 1 0\n",
            "2 2 2 1\n"
          ]
        }
      ]
    },
    {
      "cell_type": "code",
      "source": [],
      "metadata": {
        "id": "iLmp-wx3XcCi"
      },
      "execution_count": null,
      "outputs": []
    },
    {
      "cell_type": "code",
      "source": [],
      "metadata": {
        "id": "wnF5eaxWbKRF"
      },
      "execution_count": null,
      "outputs": []
    }
  ]
}